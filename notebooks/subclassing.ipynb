{
 "cells": [
  {
   "cell_type": "code",
   "execution_count": 1,
   "metadata": {},
   "outputs": [],
   "source": [
    "import cat4py as cat\n",
    "import numpy as np\n",
    "import os"
   ]
  },
  {
   "cell_type": "code",
   "execution_count": 2,
   "metadata": {},
   "outputs": [],
   "source": [
    "class Array(cat.Container):\n",
    "    \n",
    "    def __init__(self, dtype, pshape=None, filename=None, **kargs):\n",
    "        self.dtype = np.dtype(dtype)\n",
    "        kargs[\"metalayers\"] = {\"numpy\": {\"dtype\": str(self.dtype)}}\n",
    "        self.kargs = kargs\n",
    "        super(cat.Container, self).__init__(pshape, filename, **kargs)\n",
    "    \n",
    "    def iter_write(self):\n",
    "        return cat.Container.iter_write(self, self.dtype)\n",
    "    \n",
    "    def iter_read(self, blockshape):\n",
    "        return cat.Container.iter_read(self, blockshape, self.dtype)\n",
    "    \n",
    "    def copy(self, pshape=None, filename=None, **kargs):\n",
    "        arr = cat.Container.copy(self, pshape, filename, **kargs)\n",
    "        arr.__class__ = Array\n",
    "        arr.dtype = self.dtype\n",
    "        return arr\n",
    "    \n",
    "    def __array__(self):\n",
    "        return cat.Container.to_numpy(self, self.dtype)\n",
    "\n",
    "def empty_array(dtype, shape, pshape=None, filename=None, **kargs):\n",
    "    arr = Array(dtype, pshape, filename, **kargs)\n",
    "    arr.updateshape(shape)\n",
    "    return arr\n",
    "\n",
    "def from_file(filename):\n",
    "    arr = cat.from_file(filename)\n",
    "    arr.__class__ = Array\n",
    "    dtype = arr.get_metalayer(\"numpy\")[b\"dtype\"]\n",
    "    arr.dtype = np.dtype(dtype)\n",
    "    return arr"
   ]
  },
  {
   "cell_type": "code",
   "execution_count": 3,
   "metadata": {
    "scrolled": true
   },
   "outputs": [],
   "source": [
    "a = empty_array(np.int32, shape=(32, 32), pshape=(16, 16), filename=\"notebook.cat\")"
   ]
  },
  {
   "cell_type": "code",
   "execution_count": 4,
   "metadata": {},
   "outputs": [],
   "source": [
    "for block, info in a.iter_write():\n",
    "    block[:] = np.ones((info.shape), dtype=np.int32)"
   ]
  },
  {
   "cell_type": "code",
   "execution_count": 5,
   "metadata": {},
   "outputs": [],
   "source": [
    "b = a.copy(pshape=(12, 3), filename=\"notebook2.cat\")"
   ]
  },
  {
   "cell_type": "code",
   "execution_count": 6,
   "metadata": {
    "scrolled": false
   },
   "outputs": [
    {
     "data": {
      "text/plain": [
       "array([[32, 32, 32, ..., 32, 32, 32],\n",
       "       [32, 32, 32, ..., 32, 32, 32],\n",
       "       [32, 32, 32, ..., 32, 32, 32],\n",
       "       ...,\n",
       "       [32, 32, 32, ..., 32, 32, 32],\n",
       "       [32, 32, 32, ..., 32, 32, 32],\n",
       "       [32, 32, 32, ..., 32, 32, 32]], dtype=int32)"
      ]
     },
     "execution_count": 6,
     "metadata": {},
     "output_type": "execute_result"
    }
   ],
   "source": [
    "np.matmul(a, b)"
   ]
  },
  {
   "cell_type": "code",
   "execution_count": 7,
   "metadata": {},
   "outputs": [],
   "source": [
    "os.remove(\"notebook.cat\")\n",
    "os.remove(\"Notebook2.cat\")"
   ]
  },
  {
   "cell_type": "code",
   "execution_count": null,
   "metadata": {},
   "outputs": [],
   "source": []
  }
 ],
 "metadata": {
  "kernelspec": {
   "display_name": "Python 2",
   "language": "python",
   "name": "python2"
  },
  "language_info": {
   "codemirror_mode": {
    "name": "ipython",
    "version": 3
   },
   "file_extension": ".py",
   "mimetype": "text/x-python",
   "name": "python",
   "nbconvert_exporter": "python",
   "pygments_lexer": "ipython3",
   "version": "3.6.8"
  }
 },
 "nbformat": 4,
 "nbformat_minor": 1
}
