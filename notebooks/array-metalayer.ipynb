{
 "cells": [
  {
   "cell_type": "markdown",
   "metadata": {},
   "source": [
    "## Example of a subclass of Container for typed Arrays "
   ]
  },
  {
   "cell_type": "code",
   "execution_count": 1,
   "metadata": {
    "pycharm": {
     "is_executing": false
    }
   },
   "outputs": [],
   "source": [
    "import cat4py as cat\n",
    "import numpy as np\n",
    "import os\n",
    "import time"
   ]
  },
  {
   "cell_type": "code",
   "execution_count": 2,
   "metadata": {
    "pycharm": {
     "is_executing": false
    }
   },
   "outputs": [],
   "source": [
    "class WriteIterArray(cat.WriteIter):\n",
    "    def __init__(self, arr):\n",
    "        self.arr = arr\n",
    "        super(cat.WriteIter, self).__init__(arr)\n",
    "    \n",
    "    def __next__(self):\n",
    "        buff, info = cat.WriteIter.__next__(self)\n",
    "        arr = np.frombuffer(buff, dtype=self.arr.dtype).reshape(info.shape)\n",
    "        return arr, info\n",
    "    \n",
    "    \n",
    "class ReadIterArray(cat.ReadIter):\n",
    "    def __init__(self, arr, blockshape):\n",
    "        self.arr = arr\n",
    "        super(cat.WriteIter, self).__init__(arr, blockshape)\n",
    "    \n",
    "    def __next__(self):\n",
    "        buff, info = cat.ReadIter.__next__(self)\n",
    "        arr = np.frombuffer(buff, dtype=self.arr.dtype).reshape(info.shape)\n",
    "        return arr, info\n",
    "    \n",
    "    \n",
    "class Array(cat.Container):\n",
    "    \n",
    "    def __init__(self, dtype, pshape=None, filename=None, **kwargs):\n",
    "        self.dtype = np.dtype(dtype)\n",
    "        kwargs[\"itemsize\"] = self.dtype.itemsize\n",
    "        if pshape is not None:\n",
    "            kwargs[\"metalayers\"] = {\"numpy\": {\"dtype\": str(self.dtype)}}\n",
    "        self.kwargs = kwargs\n",
    "        super(cat.Container, self).__init__(pshape=pshape, filename=filename, **kwargs)\n",
    "    \n",
    "    def __getitem__(self, key):    \n",
    "        buff = cat.Container.__getitem__(self, key)\n",
    "        ndim = self.ndim\n",
    "        if ndim == 1:\n",
    "            key = [key]\n",
    "\n",
    "        key = list(key)\n",
    "\n",
    "        for i, sl in enumerate(key):\n",
    "            if type(sl) is not slice:\n",
    "                key[i] = slice(sl, sl+1, None)\n",
    "\n",
    "        start = [s.start if s.start is not None else 0 for s in key]\n",
    "        stop = [s.stop if s.stop is not None else sh for s, sh in zip(key, self.shape)]\n",
    "        shape = [sp - st for st, sp in zip(start, stop)]\n",
    "        return np.frombuffer(buff, dtype=self.dtype).reshape(shape)\n",
    "    \n",
    "    \n",
    "    def iter_write(self):\n",
    "        return WriteIterArray(self)\n",
    "    \n",
    "    def iter_read(self, blockshape):\n",
    "        buff, info = cat.Container.iter_read(self, blockshape)\n",
    "        arr = np.frombuffer(buff, dtype=self.dtype).reshape(info.shape)\n",
    "        return arr, info\n",
    "    \n",
    "    def copy(self, pshape=None, filename=None, **kwargs):\n",
    "        arr = cat.Container.copy(self, pshape=pshape, filename=filename, **kwargs)\n",
    "        arr.__class__ = Array\n",
    "        arr.dtype = self.dtype\n",
    "        return arr\n",
    "    \n",
    "    def __array__(self):\n",
    "        return cat.Container.to_numpy(self, self.dtype)\n",
    "\n",
    "def empty_array(dtype, shape, pshape=None, filename=None, **kwargs):\n",
    "    arr = Array(dtype, pshape=pshape, filename=filename, **kwargs)\n",
    "    arr.updateshape(shape)\n",
    "    return arr\n",
    "\n",
    "def from_file(filename):\n",
    "    arr = cat.from_file(filename)\n",
    "    arr.__class__ = Array\n",
    "    dtype = arr.get_metalayer(\"numpy\")[b\"dtype\"]\n",
    "    arr.dtype = np.dtype(dtype)\n",
    "    return arr"
   ]
  },
  {
   "cell_type": "markdown",
   "metadata": {},
   "source": [
    "### Example of creation of a typed Array"
   ]
  },
  {
   "cell_type": "code",
   "execution_count": 3,
   "metadata": {},
   "outputs": [],
   "source": [
    "if os.path.exists(\"notebook.cat4npy\"): os.remove(\"notebook.cat4npy\")\n",
    "if os.path.exists(\"notebook2.cat4npy\"): os.remove(\"notebook2.cat4npy\")"
   ]
  },
  {
   "cell_type": "code",
   "execution_count": 4,
   "metadata": {
    "pycharm": {
     "is_executing": false
    },
    "scrolled": true
   },
   "outputs": [],
   "source": [
    "a = empty_array(np.int32, shape=(32, 32), pshape=(16, 16), filename=\"notebook.cat4npy\")"
   ]
  },
  {
   "cell_type": "code",
   "execution_count": 5,
   "metadata": {
    "pycharm": {
     "is_executing": false
    }
   },
   "outputs": [],
   "source": [
    "for block, info in a.iter_write():\n",
    "    block[:] = np.ones((info.shape), dtype=np.int32)"
   ]
  },
  {
   "cell_type": "code",
   "execution_count": 6,
   "metadata": {
    "pycharm": {
     "is_executing": false
    }
   },
   "outputs": [],
   "source": [
    "b = a.copy(pshape=(12, 3), filename=\"notebook2.cat4npy\")  # copy with a different partition shape"
   ]
  },
  {
   "cell_type": "code",
   "execution_count": 7,
   "metadata": {
    "pycharm": {
     "is_executing": false
    },
    "scrolled": false
   },
   "outputs": [
    {
     "data": {
      "text/plain": [
       "array([[32, 32, 32, ..., 32, 32, 32],\n",
       "       [32, 32, 32, ..., 32, 32, 32],\n",
       "       [32, 32, 32, ..., 32, 32, 32],\n",
       "       ...,\n",
       "       [32, 32, 32, ..., 32, 32, 32],\n",
       "       [32, 32, 32, ..., 32, 32, 32],\n",
       "       [32, 32, 32, ..., 32, 32, 32]], dtype=int32)"
      ]
     },
     "execution_count": 7,
     "metadata": {},
     "output_type": "execute_result"
    }
   ],
   "source": [
    "np.matmul(a, b)"
   ]
  },
  {
   "cell_type": "markdown",
   "metadata": {},
   "source": [
    "### A comparison with .npy format"
   ]
  },
  {
   "cell_type": "code",
   "execution_count": 8,
   "metadata": {
    "pycharm": {
     "is_executing": false
    }
   },
   "outputs": [],
   "source": [
    "if os.path.exists(\"slice.npy\"): os.remove(\"slice.npy\")\n",
    "if os.path.exists(\"slice.cat4npy\"): os.remove(\"slice.cat4npy\")"
   ]
  },
  {
   "cell_type": "code",
   "execution_count": 9,
   "metadata": {
    "pycharm": {
     "is_executing": false
    }
   },
   "outputs": [],
   "source": [
    "cat_array = empty_array(np.float64, shape=(2048, 2048), pshape=(2, 2048), filename=\"slice.cat4npy\",\n",
    "                        compcode=cat.LZ4, clevel=5, filters=[cat.TRUNC_PREC, cat.SHUFFLE], filters_meta=[10, 0])"
   ]
  },
  {
   "cell_type": "code",
   "execution_count": 10,
   "metadata": {
    "pycharm": {
     "is_executing": false
    }
   },
   "outputs": [],
   "source": [
    "for block, info in cat_array.iter_write():\n",
    "    block[:] = np.random.randn(info.size).reshape(info.shape)"
   ]
  },
  {
   "cell_type": "code",
   "execution_count": 11,
   "metadata": {
    "pycharm": {
     "is_executing": false
    }
   },
   "outputs": [],
   "source": [
    "numpy_array = cat_array.__array__()\n",
    "np.save(\"slice\", numpy_array)"
   ]
  },
  {
   "cell_type": "code",
   "execution_count": 12,
   "metadata": {
    "pycharm": {
     "is_executing": false
    }
   },
   "outputs": [
    {
     "name": "stdout",
     "output_type": "stream",
     "text": [
      "0.024665117263793945\n"
     ]
    }
   ],
   "source": [
    "t1 = time.time()\n",
    "new_numpy_array = np.load(\"slice.npy\")\n",
    "numpy_slice = new_numpy_array[2:3, :]\n",
    "t2 = time.time()\n",
    "t_numpy = t2 - t1\n",
    "print(t_numpy)"
   ]
  },
  {
   "cell_type": "code",
   "execution_count": 13,
   "metadata": {
    "pycharm": {
     "is_executing": false
    }
   },
   "outputs": [
    {
     "name": "stdout",
     "output_type": "stream",
     "text": [
      "0.0021941661834716797\n"
     ]
    }
   ],
   "source": [
    "t1 = time.time()\n",
    "new_cat_array = from_file(\"slice.cat4npy\")\n",
    "cat_slice = new_cat_array[2:3, :]\n",
    "t2 = time.time()\n",
    "t_cat = t2 - t1\n",
    "print(t_cat)"
   ]
  },
  {
   "cell_type": "code",
   "execution_count": 14,
   "metadata": {
    "pycharm": {
     "is_executing": false
    }
   },
   "outputs": [
    {
     "name": "stdout",
     "output_type": "stream",
     "text": [
      "11.241225687275888\n"
     ]
    }
   ],
   "source": [
    "print(t_numpy / t_cat)"
   ]
  },
  {
   "cell_type": "code",
   "execution_count": 15,
   "metadata": {
    "pycharm": {
     "is_executing": false
    }
   },
   "outputs": [],
   "source": [
    "np.testing.assert_almost_equal(cat_slice, numpy_slice)"
   ]
  },
  {
   "cell_type": "code",
   "execution_count": 16,
   "metadata": {
    "pycharm": {
     "is_executing": false
    }
   },
   "outputs": [
    {
     "name": "stdout",
     "output_type": "stream",
     "text": [
      "-rw-r--r--  1 faltet  staff   633B Sep  6 13:46 notebook.cat4npy\r\n",
      "-rw-r--r--  1 faltet  staff   2.0K Sep  6 13:46 notebook2.cat4npy\r\n",
      "-rw-r--r--  1 faltet  staff    11M Sep  6 13:46 slice.cat4npy\r\n",
      "-rw-r--r--  1 faltet  staff    32M Sep  6 13:46 slice.npy\r\n"
     ]
    }
   ],
   "source": [
    "!ls -lh *.*npy"
   ]
  },
  {
   "cell_type": "code",
   "execution_count": null,
   "metadata": {},
   "outputs": [],
   "source": []
  }
 ],
 "metadata": {
  "kernelspec": {
   "display_name": "Python 3",
   "language": "python",
   "name": "python3"
  },
  "language_info": {
   "codemirror_mode": {
    "name": "ipython",
    "version": 3
   },
   "file_extension": ".py",
   "mimetype": "text/x-python",
   "name": "python",
   "nbconvert_exporter": "python",
   "pygments_lexer": "ipython3",
   "version": "3.7.3"
  },
  "pycharm": {
   "stem_cell": {
    "cell_type": "raw",
    "metadata": {
     "collapsed": false
    },
    "source": []
   }
  }
 },
 "nbformat": 4,
 "nbformat_minor": 1
}
