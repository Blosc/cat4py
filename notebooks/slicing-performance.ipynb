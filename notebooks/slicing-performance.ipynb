{
 "cells": [
  {
   "cell_type": "markdown",
   "metadata": {
    "collapsed": true,
    "pycharm": {
     "name": "#%% md\n"
    }
   },
   "source": [
    "# Caterva performance against Zarr and HDF5\n",
    "\n",
    "This benchmark is meant for comparing speeds of getting hyperplanes on a multidimensional\n",
    "array using different backends: Caterva, zarr and HDF5.\n"
   ]
  },
  {
   "cell_type": "code",
   "execution_count": 1,
   "metadata": {
    "pycharm": {
     "name": "#%%\n"
    }
   },
   "outputs": [],
   "source": [
    "import cat4py as cat\n",
    "import zarr\n",
    "import numcodecs\n",
    "import tables\n",
    "import numpy as np\n",
    "from time import time\n",
    "import matplotlib.pyplot as plt\n"
   ]
  },
  {
   "cell_type": "code",
   "execution_count": 2,
   "metadata": {
    "pycharm": {
     "name": "#%%\n"
    }
   },
   "outputs": [],
   "source": [
    "# Dimensions for the arrays\n",
    "shape = (500, 250, 200)\n",
    "chunkshape = (500, 10, 200)\n",
    "blockshape = (40, 10, 50)\n",
    "\n",
    "# Data type\n",
    "dtype = \"f8\"\n",
    "\n",
    "# Compression properties\n",
    "cname = \"lz4\"\n",
    "clevel = 5\n",
    "filter = cat.SHUFFLE\n",
    "nthreads = 6\n",
    "blocksize = int(np.prod(blockshape))\n"
   ]
  },
  {
   "cell_type": "code",
   "execution_count": 3,
   "metadata": {
    "pycharm": {
     "name": "#%%\n"
    }
   },
   "outputs": [],
   "source": [
    "# Create content for populating arrays\n",
    "content = np.linspace(0, 1, int(np.prod(shape))).reshape(shape)\n"
   ]
  },
  {
   "cell_type": "code",
   "execution_count": 4,
   "metadata": {
    "pycharm": {
     "name": "#%%\n"
    }
   },
   "outputs": [
    {
     "name": "stdout",
     "output_type": "stream",
     "text": [
      "Time for filling array (caterva): 0.127s ; CRatio: 5.0x\n",
      "Time for filling array (zarr): 0.094s ; CRatio: 7.9x\n",
      "Time for filling array (hdf5): 0.137s ; CRatio: 16.3x\n"
     ]
    }
   ],
   "source": [
    "# Create and fill a caterva array\n",
    "t0 = time()\n",
    "a = cat.asarray(content, chunkshape=chunkshape, blockshape=blockshape,\n",
    "              cname=cname, clevel=clevel, filters=[filter], nthreads=nthreads)\n",
    "t1 = time()\n",
    "print(\"Time for filling array (caterva): %.3fs ; CRatio: %.1fx\" % ((t1 - t0), a.cratio))\n",
    "\n",
    "# Create and fill a zarr array\n",
    "t0 = time()\n",
    "compressor = numcodecs.Blosc(cname=cname, clevel=clevel, shuffle=filter, blocksize=blocksize)\n",
    "numcodecs.blosc.set_nthreads(nthreads)\n",
    "z = zarr.empty(shape=shape, chunks=chunkshape, dtype=dtype, compressor=compressor)\n",
    "z[:] = content\n",
    "t1 = time()\n",
    "print(\"Time for filling array (zarr): %.3fs ; CRatio: %.1fx\" % ((t1 - t0), z.nbytes / z.nbytes_stored))\n",
    "\n",
    "# Create and fill a hdf5 array\n",
    "t0 = time()\n",
    "filters = tables.Filters(complevel=clevel, complib=\"blosc:%s\" % cname, shuffle=True)\n",
    "tables.set_blosc_max_threads(nthreads)\n",
    "h5f = tables.open_file(\"compare_getslice.h5\", 'w', driver='H5FD_CORE', driver_core_backing_store=0)\n",
    "h5ca = h5f.create_carray(h5f.root, 'carray', filters=filters, chunkshape=chunkshape, obj=content)\n",
    "h5f.flush()\n",
    "t1 = time()\n",
    "print(\"Time for filling array (hdf5): %.3fs ; CRatio: %.1fx\" % ((t1 - t0), h5ca.size_in_memory / h5ca.size_on_disk))\n"
   ]
  },
  {
   "cell_type": "code",
   "execution_count": 5,
   "metadata": {
    "pycharm": {
     "name": "#%%\n"
    }
   },
   "outputs": [
    {
     "name": "stdout",
     "output_type": "stream",
     "text": [
      "Time for checking contents: 1.008s\n"
     ]
    }
   ],
   "source": [
    "# Check that the contents are the same\n",
    "t0 = time()\n",
    "for block, info in a.iter_read(chunkshape):\n",
    "    block_cat = block\n",
    "    block_zarr = z[info.slice]\n",
    "    np.testing.assert_array_almost_equal(block_cat, block_zarr)\n",
    "    block_h5 = h5ca[info.slice]\n",
    "    np.testing.assert_array_almost_equal(block_cat, block_h5)\n",
    "t1 = time()\n",
    "print(\"Time for checking contents: %.3fs\" % (t1 - t0))\n"
   ]
  },
  {
   "cell_type": "code",
   "execution_count": 6,
   "metadata": {
    "pycharm": {
     "name": "#%%\n"
    }
   },
   "outputs": [
    {
     "data": {
      "image/png": "[encoded data removed]",
      "text/plain": [
       "<Figure size 432x288 with 1 Axes>"
      ]
     },
     "metadata": {
      "needs_background": "light"
     },
     "output_type": "display_data"
    }
   ],
   "source": [
    "# Setup the coordinates for random planes in axis 0\n",
    "planes_idx = np.random.randint(0, shape[0], 100)\n",
    "\n",
    "# Time getitem with caterva\n",
    "t0 = time()\n",
    "for i in planes_idx:\n",
    "    block = a[i, :, :]\n",
    "t1 = time()\n",
    "ctime = t1 - t0\n",
    "\n",
    "# Time getitem with zarr\n",
    "t0 = time()\n",
    "for i in planes_idx:\n",
    "    block = z[i, :, :]\n",
    "t1 = time()\n",
    "ztime = t1 - t0\n",
    "\n",
    "# Time getitem with hdf5\n",
    "t0 = time()\n",
    "for i in planes_idx:\n",
    "    block = h5ca[i, :, :]\n",
    "t1 = time()\n",
    "htime = t1 - t0\n",
    "\n",
    "plt.bar([\"caterva\", \"zarr\", \"hdf5\"], [ctime, ztime, htime])\n",
    "plt.ylabel(\"Time (s)\")\n",
    "plt.show()\n"
   ]
  },
  {
   "cell_type": "code",
   "execution_count": 7,
   "metadata": {
    "pycharm": {
     "name": "#%%\n"
    }
   },
   "outputs": [
    {
     "data": {
      "image/png": "[encoded data removed]",
      "text/plain": [
       "<Figure size 432x288 with 1 Axes>"
      ]
     },
     "metadata": {
      "needs_background": "light"
     },
     "output_type": "display_data"
    }
   ],
   "source": [
    "# Setup the coordinates for random planes in axis 1\n",
    "planes_idy = np.random.randint(0, shape[1], 100)\n",
    "\n",
    "# Time getitem with caterva\n",
    "t0 = time()\n",
    "for i in planes_idy:\n",
    "    block = a[:, i, :]\n",
    "t1 = time()\n",
    "ctime = t1 - t0\n",
    "\n",
    "# Time getitem with zarr\n",
    "t0 = time()\n",
    "for i in planes_idy:\n",
    "    block = z[:, i, :]\n",
    "t1 = time()\n",
    "ztime = t1 - t0\n",
    "\n",
    "# Time getitem with hdf5\n",
    "t0 = time()\n",
    "for i in planes_idy:\n",
    "    block = h5ca[:, i, :]\n",
    "t1 = time()\n",
    "htime = t1 - t0\n",
    "\n",
    "plt.bar([\"caterva\", \"zarr\", \"hdf5\"], [ctime, ztime, htime])\n",
    "plt.ylabel(\"Time (s)\")\n",
    "plt.show()\n"
   ]
  },
  {
   "cell_type": "code",
   "execution_count": 8,
   "metadata": {
    "pycharm": {
     "name": "#%%\n"
    }
   },
   "outputs": [
    {
     "data": {
      "image/png": "[encoded data removed]",
      "text/plain": [
       "<Figure size 432x288 with 1 Axes>"
      ]
     },
     "metadata": {
      "needs_background": "light"
     },
     "output_type": "display_data"
    }
   ],
   "source": [
    "# Setup the coordinates for random planes in axis 2\n",
    "planes_idz = np.random.randint(0, shape[2], 100)\n",
    "\n",
    "# Time getitem with caterva\n",
    "t0 = time()\n",
    "for i in planes_idz:\n",
    "    block = a[:, :, i]\n",
    "t1 = time()\n",
    "ctime = t1 - t0\n",
    "\n",
    "# Time getitem with zarr\n",
    "t0 = time()\n",
    "for i in planes_idz:\n",
    "    block = z[:, :, i]\n",
    "t1 = time()\n",
    "ztime = t1 - t0\n",
    "\n",
    "# Time getitem with hdf5\n",
    "t0 = time()\n",
    "for i in planes_idz:\n",
    "    block = h5ca[:, :, i]\n",
    "t1 = time()\n",
    "htime = t1 - t0\n",
    "\n",
    "plt.bar([\"caterva\", \"zarr\", \"hdf5\"], [ctime, ztime, htime])\n",
    "plt.ylabel(\"Time (s)\")\n",
    "plt.show()"
   ]
  },
  {
   "cell_type": "code",
   "execution_count": 9,
   "metadata": {
    "pycharm": {
     "name": "#%%\n"
    }
   },
   "outputs": [],
   "source": [
    "h5f.close()\n"
   ]
  },
  {
   "cell_type": "code",
   "execution_count": null,
   "metadata": {},
   "outputs": [],
   "source": []
  }
 ],
 "metadata": {
  "kernelspec": {
   "display_name": "Python 3",
   "language": "python",
   "name": "python3"
  },
  "language_info": {
   "codemirror_mode": {
    "name": "ipython",
    "version": 3
   },
   "file_extension": ".py",
   "mimetype": "text/x-python",
   "name": "python",
   "nbconvert_exporter": "python",
   "pygments_lexer": "ipython3",
   "version": "3.8.1"
  }
 },
 "nbformat": 4,
 "nbformat_minor": 1
}
