{
 "cells": [
  {
   "cell_type": "markdown",
   "metadata": {},
   "source": [
    "## Benchmark for comparing speeds of retrieval of hyperplanes\n",
    "\n",
    "We create different multidimensional arrays with different backends:\n",
    "* Caterva\n",
    "* zarr\n",
    "* HDF5\n",
    "\n",
    "In brief, each approach has its own strengths and weaknesses."
   ]
  },
  {
   "cell_type": "code",
   "execution_count": 1,
   "metadata": {
    "pycharm": {
     "is_executing": false
    }
   },
   "outputs": [],
   "source": [
    "import os\n",
    "import shutil\n",
    "from time import time\n",
    "import numpy as np\n",
    "\n",
    "import cat4py as cat\n",
    "import zarr\n",
    "import numcodecs\n",
    "import tables\n",
    "import pandas as pd"
   ]
  },
  {
   "cell_type": "code",
   "execution_count": 2,
   "metadata": {},
   "outputs": [
    {
     "name": "stdout",
     "output_type": "stream",
     "text": [
      "In [2] used 0.012 MiB RAM in 0.001s, peaked 0.000 MiB above current, total RAM usage 93.203 MiB\n"
     ]
    }
   ],
   "source": [
    "from ipython_memwatcher import MemWatcher\n",
    "mw = MemWatcher()\n",
    "mw.start_watching_memory()"
   ]
  },
  {
   "cell_type": "code",
   "execution_count": 3,
   "metadata": {},
   "outputs": [
    {
     "name": "stdout",
     "output_type": "stream",
     "text": [
      "In [3] used 0.066 MiB RAM in 0.001s, peaked 0.000 MiB above current, total RAM usage 93.270 MiB\n"
     ]
    }
   ],
   "source": [
    "# Set this to True to benchmark the persistent storage for the backends\n",
    "persistent = True"
   ]
  },
  {
   "cell_type": "code",
   "execution_count": 4,
   "metadata": {},
   "outputs": [
    {
     "name": "stdout",
     "output_type": "stream",
     "text": [
      "In [4] used 0.078 MiB RAM in 0.040s, peaked 0.000 MiB above current, total RAM usage 93.348 MiB\n"
     ]
    }
   ],
   "source": [
    "# Filenames for persistent storage\n",
    "fname_cat = None\n",
    "fname_zarr = None\n",
    "fname_h5 = \"in-memory.h5\"\n",
    "if persistent:\n",
    "    fname_cat = \"compare_getslice.cat\"\n",
    "    if os.path.exists(fname_cat):\n",
    "        os.remove(fname_cat)\n",
    "    fname_zarr = \"compare_getslice.zarr\"\n",
    "    if os.path.exists(fname_zarr):\n",
    "        shutil.rmtree(fname_zarr)\n",
    "    fname_h5 = \"compare_getslice.h5\"\n",
    "    if os.path.exists(fname_h5):\n",
    "        os.remove(fname_h5)"
   ]
  },
  {
   "cell_type": "code",
   "execution_count": 5,
   "metadata": {
    "pycharm": {
     "is_executing": false,
     "name": "#%%\n"
    }
   },
   "outputs": [
    {
     "name": "stdout",
     "output_type": "stream",
     "text": [
      "In [5] used 0.027 MiB RAM in 0.003s, peaked 0.000 MiB above current, total RAM usage 93.375 MiB\n"
     ]
    }
   ],
   "source": [
    "dtype = np.float64\n",
    "\n",
    "# Dimensions for the arrays\n",
    "# 'Small' arrays config follows...\n",
    "# shape = (100, 500, 250)\n",
    "# pshape = (20, 500, 50)\n",
    "shape = (100, 5000, 250)\n",
    "pshape = (20, 500, 50)\n",
    "\n",
    "# This config generates containers of more than 2 GB in size\n",
    "# shape = (250, 4000, 350)\n",
    "# pshape = (200, 100, 100)\n",
    "\n",
    "# Compression properties\n",
    "cname = \"zstd\"\n",
    "clevel = 6\n",
    "filter = cat.SHUFFLE\n",
    "nthreads = 4\n",
    "\n",
    "# Dicts for timers\n",
    "wtimes = {}\n",
    "rtimes = {}\n",
    "\n",
    "# Dict for cratios\n",
    "cratios = {}"
   ]
  },
  {
   "cell_type": "code",
   "execution_count": 6,
   "metadata": {},
   "outputs": [
    {
     "name": "stdout",
     "output_type": "stream",
     "text": [
      "In [6] used 954.410 MiB RAM in 0.764s, peaked 0.000 MiB above current, total RAM usage 1047.785 MiB\n"
     ]
    }
   ],
   "source": [
    "# Create content for populating arrays\n",
    "content = np.linspace(0, 10, int(np.prod(shape)), dtype=dtype).reshape(shape)"
   ]
  },
  {
   "cell_type": "code",
   "execution_count": 7,
   "metadata": {},
   "outputs": [
    {
     "name": "stdout",
     "output_type": "stream",
     "text": [
      "Time for filling array (caterva, iter): 4.478s ; CRatio: 21.2x\n",
      "In [7] used 35.125 MiB RAM in 4.481s, peaked 0.000 MiB above current, total RAM usage 1082.910 MiB\n"
     ]
    }
   ],
   "source": [
    "t0 = time()\n",
    "a = cat.empty(shape, pshape=pshape, itemsize=content.itemsize, filename=fname_cat,\n",
    "              cname=cname, clevel=clevel, filters=[filter],\n",
    "              cnthreads=nthreads, dnthreads=nthreads)\n",
    "for block, info in a.iter_write():\n",
    "    nparray = content[info.slice]\n",
    "    block[:] = bytes(nparray)\n",
    "acratio = a.cratio\n",
    "t1 = time()\n",
    "print(\"Time for filling array (caterva, iter): %.3fs ; CRatio: %.1fx\" % ((t1 - t0), acratio))\n",
    "wtimes['caterva'] = (t1 - t0)\n",
    "cratios['caterva'] = acratio"
   ]
  },
  {
   "cell_type": "code",
   "execution_count": 8,
   "metadata": {
    "pycharm": {
     "is_executing": false,
     "name": "#%%\n"
    }
   },
   "outputs": [
    {
     "name": "stdout",
     "output_type": "stream",
     "text": [
      "Time for filling array (zarr): 5.100s ; CRatio: 21.2x\n",
      "In [8] used 27.227 MiB RAM in 5.104s, peaked 0.000 MiB above current, total RAM usage 1110.137 MiB\n"
     ]
    }
   ],
   "source": [
    "# Create and fill a zarr array\n",
    "t0 = time()\n",
    "compressor = numcodecs.Blosc(cname=cname, clevel=clevel, shuffle=filter)\n",
    "numcodecs.blosc.set_nthreads(nthreads)\n",
    "if persistent:\n",
    "    z = zarr.open(fname_zarr, mode='w', shape=shape, chunks=pshape, dtype=dtype, compressor=compressor)\n",
    "else:\n",
    "    z = zarr.empty(shape=shape, chunks=pshape, dtype=dtype, compressor=compressor)\n",
    "z[:] = content\n",
    "t1 = time()\n",
    "zcratio = z.nbytes / z.nbytes_stored\n",
    "print(\"Time for filling array (zarr): %.3fs ; CRatio: %.1fx\" % ((t1 - t0), zcratio))\n",
    "wtimes['zarr'] = (t1 - t0)\n",
    "cratios['zarr'] = zcratio"
   ]
  },
  {
   "cell_type": "code",
   "execution_count": 9,
   "metadata": {
    "pycharm": {
     "is_executing": false,
     "name": "#%%\n"
    }
   },
   "outputs": [
    {
     "name": "stdout",
     "output_type": "stream",
     "text": [
      "Time for filling array (hdf5): 9.767s ; CRatio: 21.2x\n",
      "In [9] used 6.426 MiB RAM in 9.769s, peaked 0.000 MiB above current, total RAM usage 1116.562 MiB\n"
     ]
    }
   ],
   "source": [
    "# Create and fill a hdf5 array\n",
    "t0 = time()\n",
    "filters = tables.Filters(complevel=clevel, complib=\"blosc:%s\" % cname, shuffle=True)\n",
    "tables.set_blosc_max_threads(nthreads)\n",
    "if persistent:\n",
    "    h5f = tables.open_file(fname_h5, 'w')\n",
    "else:\n",
    "    h5f = tables.open_file(fname_h5, 'w', driver='H5FD_CORE', driver_core_backing_store=0)\n",
    "h5ca = h5f.create_carray(h5f.root, 'carray', filters=filters, chunkshape=pshape, obj=content)\n",
    "h5f.flush()\n",
    "t1 = time()\n",
    "h5cratio = h5ca.size_in_memory / h5ca.size_on_disk\n",
    "print(\"Time for filling array (hdf5): %.3fs ; CRatio: %.1fx\" % ((t1 - t0), h5cratio))\n",
    "wtimes['hdf5'] = (t1 - t0)\n",
    "cratios['hdf5'] = h5cratio"
   ]
  },
  {
   "cell_type": "code",
   "execution_count": 10,
   "metadata": {
    "pycharm": {
     "is_executing": false,
     "name": "#%%\n"
    }
   },
   "outputs": [
    {
     "name": "stdout",
     "output_type": "stream",
     "text": [
      "In [10] used 0.062 MiB RAM in 0.001s, peaked 0.000 MiB above current, total RAM usage 1116.625 MiB\n"
     ]
    }
   ],
   "source": [
    "# Get the coordinates for random planes\n",
    "planes_idx = np.random.randint(0, shape[1], 100)"
   ]
  },
  {
   "cell_type": "code",
   "execution_count": 11,
   "metadata": {
    "pycharm": {
     "is_executing": false,
     "name": "#%%\n"
    }
   },
   "outputs": [
    {
     "name": "stdout",
     "output_type": "stream",
     "text": [
      "Time for reading with getitem (caterva): 7.128s\n",
      "In [11] used 0.281 MiB RAM in 7.134s, peaked 0.000 MiB above current, total RAM usage 1116.906 MiB\n"
     ]
    }
   ],
   "source": [
    "# Time getitem with caterva\n",
    "t0 = time()\n",
    "for i in planes_idx:\n",
    "    rbytes = a[:,i,:]\n",
    "    block = np.frombuffer(rbytes, dtype=dtype).reshape((shape[0], shape[2]))\n",
    "t1 = time()\n",
    "print(\"Time for reading with getitem (caterva): %.3fs\" % (t1 - t0))\n",
    "rtimes['caterva'] = (t1 - t0)"
   ]
  },
  {
   "cell_type": "code",
   "execution_count": 12,
   "metadata": {
    "pycharm": {
     "is_executing": false,
     "name": "#%%\n"
    }
   },
   "outputs": [
    {
     "name": "stdout",
     "output_type": "stream",
     "text": [
      "Time for reading with getitem (zarr): 6.321s\n",
      "In [12] used 0.371 MiB RAM in 6.324s, peaked 0.000 MiB above current, total RAM usage 1117.277 MiB\n"
     ]
    }
   ],
   "source": [
    "# Time getitem with zarr\n",
    "t0 = time()\n",
    "for i in planes_idx:\n",
    "    block = z[:,i,:]\n",
    "t1 = time()\n",
    "print(\"Time for reading with getitem (zarr): %.3fs\" % (t1 - t0))\n",
    "rtimes['zarr'] = (t1 - t0)"
   ]
  },
  {
   "cell_type": "code",
   "execution_count": 13,
   "metadata": {
    "pycharm": {
     "is_executing": false,
     "name": "#%%\n"
    }
   },
   "outputs": [
    {
     "name": "stdout",
     "output_type": "stream",
     "text": [
      "Time for reading with getitem (hdf5): 8.831s\n",
      "In [13] used 0.332 MiB RAM in 8.833s, peaked 0.000 MiB above current, total RAM usage 1117.609 MiB\n"
     ]
    }
   ],
   "source": [
    "# Time getitem with hdf5\n",
    "t0 = time()\n",
    "if persistent:\n",
    "    h5f.close()\n",
    "    h5f = tables.open_file(fname_h5, 'r', filters=filters)\n",
    "h5ca = h5f.root.carray\n",
    "for i in planes_idx:\n",
    "    block = h5ca[:,i,:]\n",
    "t1 = time()\n",
    "print(\"Time for reading with getitem (hdf5): %.3fs\" % (t1 - t0))\n",
    "rtimes['hdf5'] = (t1 - t0)"
   ]
  },
  {
   "cell_type": "code",
   "execution_count": 14,
   "metadata": {},
   "outputs": [
    {
     "name": "stdout",
     "output_type": "stream",
     "text": [
      "In [14] used -28.426 MiB RAM in 0.009s, peaked 28.449 MiB above current, total RAM usage 1089.184 MiB\n"
     ]
    }
   ],
   "source": [
    "# Release resources\n",
    "del a\n",
    "del z\n",
    "h5f.close()"
   ]
  },
  {
   "cell_type": "code",
   "execution_count": 15,
   "metadata": {},
   "outputs": [
    {
     "data": {
      "text/plain": [
       "({'caterva': 4.477917909622192,\n",
       "  'zarr': 5.099897146224976,\n",
       "  'hdf5': 9.766812086105347},\n",
       " {'caterva': 7.1279520988464355,\n",
       "  'zarr': 6.320831298828125,\n",
       "  'hdf5': 8.830565929412842})"
      ]
     },
     "execution_count": 15,
     "metadata": {},
     "output_type": "execute_result"
    },
    {
     "name": "stdout",
     "output_type": "stream",
     "text": [
      "In [15] used 0.047 MiB RAM in 0.017s, peaked 0.000 MiB above current, total RAM usage 1089.230 MiB\n"
     ]
    }
   ],
   "source": [
    "wtimes,rtimes"
   ]
  },
  {
   "cell_type": "code",
   "execution_count": 16,
   "metadata": {},
   "outputs": [
    {
     "name": "stdout",
     "output_type": "stream",
     "text": [
      "In [16] used 7.559 MiB RAM in 0.171s, peaked 0.000 MiB above current, total RAM usage 1096.789 MiB\n"
     ]
    }
   ],
   "source": [
    "%matplotlib inline"
   ]
  },
  {
   "cell_type": "code",
   "execution_count": 17,
   "metadata": {},
   "outputs": [
    {
     "name": "stdout",
     "output_type": "stream",
     "text": [
      "In [17] used 0.039 MiB RAM in 0.001s, peaked 0.000 MiB above current, total RAM usage 1096.828 MiB\n"
     ]
    }
   ],
   "source": [
    "store = \"on-disk\" if persistent else \"in-memory\"\n",
    "fontsize = 16"
   ]
  },
  {
   "cell_type": "code",
   "execution_count": 18,
   "metadata": {},
   "outputs": [
    {
     "data": {
      "text/plain": [
       "<matplotlib.axes._subplots.AxesSubplot at 0x11473d470>"
      ]
     },
     "execution_count": 18,
     "metadata": {},
     "output_type": "execute_result"
    },
    {
     "data": {
      "image/png": "[encoded data removed]",
      "text/plain": [
       "<Figure size 864x360 with 1 Axes>"
      ]
     },
     "metadata": {
      "needs_background": "light"
     },
     "output_type": "display_data"
    },
    {
     "name": "stdout",
     "output_type": "stream",
     "text": [
      "In [18] used -1.105 MiB RAM in 0.229s, peaked 1.645 MiB above current, total RAM usage 1095.723 MiB\n"
     ]
    }
   ],
   "source": [
    "# Creation times\n",
    "labels = [\"caterva\", \"zarr\", \"hdf5\"]\n",
    "df = pd.DataFrame({'time (sec)': [wtimes['caterva'], wtimes['zarr'], wtimes['hdf5']]}, index=labels)\n",
    "df.plot(kind='barh', figsize=(12,5), color=None, fontsize=fontsize, title=\"Creation times (%s)\" % store)"
   ]
  },
  {
   "cell_type": "code",
   "execution_count": 19,
   "metadata": {},
   "outputs": [
    {
     "data": {
      "text/plain": [
       "<matplotlib.axes._subplots.AxesSubplot at 0x15065a588>"
      ]
     },
     "execution_count": 19,
     "metadata": {},
     "output_type": "execute_result"
    },
    {
     "data": {
      "image/png": "[encoded data removed]",
      "text/plain": [
       "<Figure size 864x360 with 1 Axes>"
      ]
     },
     "metadata": {
      "needs_background": "light"
     },
     "output_type": "display_data"
    },
    {
     "name": "stdout",
     "output_type": "stream",
     "text": [
      "In [19] used 1.590 MiB RAM in 0.173s, peaked 0.000 MiB above current, total RAM usage 1097.312 MiB\n"
     ]
    }
   ],
   "source": [
    "# Getslice times\n",
    "labels = [\"caterva\", \"zarr\", \"hdf5\"]\n",
    "df = pd.DataFrame({'time (sec)': [rtimes['caterva'], rtimes['zarr'], rtimes['hdf5']]}, index=labels)\n",
    "df.plot(kind='barh', figsize=(12,5), color=\"green\", fontsize=fontsize, title=\"Getslice times (%s)\" % store)"
   ]
  },
  {
   "cell_type": "code",
   "execution_count": 20,
   "metadata": {},
   "outputs": [
    {
     "data": {
      "text/plain": [
       "<matplotlib.axes._subplots.AxesSubplot at 0x15084d0f0>"
      ]
     },
     "execution_count": 20,
     "metadata": {},
     "output_type": "execute_result"
    },
    {
     "data": {
      "image/png": "[encoded data removed]",
      "text/plain": [
       "<Figure size 864x360 with 1 Axes>"
      ]
     },
     "metadata": {
      "needs_background": "light"
     },
     "output_type": "display_data"
    },
    {
     "name": "stdout",
     "output_type": "stream",
     "text": [
      "In [20] used -4.367 MiB RAM in 0.192s, peaked 4.367 MiB above current, total RAM usage 1092.945 MiB\n"
     ]
    }
   ],
   "source": [
    "# Compression ratios\n",
    "labels = [\"caterva\", \"zarr\", \"hdf5\"]\n",
    "df = pd.DataFrame({'compression ratio': [cratios['caterva'], cratios['zarr'], cratios['hdf5']]}, index=labels)\n",
    "df.plot(kind='barh', figsize=(12,5), color=\"red\", fontsize=fontsize, title=\"Compression ratios (%s)\" % store)"
   ]
  },
  {
   "cell_type": "code",
   "execution_count": null,
   "metadata": {},
   "outputs": [],
   "source": []
  }
 ],
 "metadata": {
  "kernelspec": {
   "display_name": "Python 3",
   "language": "python",
   "name": "python3"
  },
  "language_info": {
   "codemirror_mode": {
    "name": "ipython",
    "version": 3
   },
   "file_extension": ".py",
   "mimetype": "text/x-python",
   "name": "python",
   "nbconvert_exporter": "python",
   "pygments_lexer": "ipython3",
   "version": "3.7.3"
  },
  "pycharm": {
   "stem_cell": {
    "cell_type": "raw",
    "metadata": {
     "collapsed": false
    },
    "source": []
   }
  }
 },
 "nbformat": 4,
 "nbformat_minor": 1
}
