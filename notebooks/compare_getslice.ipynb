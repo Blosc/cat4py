{
 "cells": [
  {
   "cell_type": "markdown",
   "metadata": {},
   "source": [
    "## Benchmark for comparing speeds of retrieval of hyperplanes\n",
    "\n",
    "We create different multidimensional arrays with different backends:\n",
    "* Caterva\n",
    "* zarr\n",
    "* HDF5\n",
    "\n",
    "In brief, each approach has its own strengths and weaknesses."
   ]
  },
  {
   "cell_type": "code",
   "execution_count": 1,
   "metadata": {
    "pycharm": {
     "is_executing": false
    }
   },
   "outputs": [],
   "source": [
    "import os\n",
    "import shutil\n",
    "from time import time\n",
    "import numpy as np\n",
    "\n",
    "import cat4py as cat\n",
    "import zarr\n",
    "import numcodecs\n",
    "import tables\n",
    "import pandas as pd"
   ]
  },
  {
   "cell_type": "code",
   "execution_count": 2,
   "metadata": {},
   "outputs": [
    {
     "name": "stdout",
     "output_type": "stream",
     "text": [
      "In [2] used 0.012 MiB RAM in 0.001s, peaked 0.000 MiB above current, total RAM usage 93.191 MiB\n"
     ]
    }
   ],
   "source": [
    "from ipython_memwatcher import MemWatcher\n",
    "mw = MemWatcher()\n",
    "mw.start_watching_memory()"
   ]
  },
  {
   "cell_type": "code",
   "execution_count": 3,
   "metadata": {},
   "outputs": [
    {
     "name": "stdout",
     "output_type": "stream",
     "text": [
      "In [3] used 0.055 MiB RAM in 0.001s, peaked 0.000 MiB above current, total RAM usage 93.246 MiB\n"
     ]
    }
   ],
   "source": [
    "# Set this to True to benchmark the persistent storage for the backends\n",
    "persistent = False"
   ]
  },
  {
   "cell_type": "code",
   "execution_count": 4,
   "metadata": {},
   "outputs": [
    {
     "name": "stdout",
     "output_type": "stream",
     "text": [
      "In [4] used 0.066 MiB RAM in 0.002s, peaked 0.000 MiB above current, total RAM usage 93.312 MiB\n"
     ]
    }
   ],
   "source": [
    "# Filenames for persistent storage\n",
    "fname_cat = None\n",
    "fname_zarr = None\n",
    "fname_h5 = \"in-memory.h5\"\n",
    "if persistent:\n",
    "    fname_cat = \"compare_getslice.cat\"\n",
    "    if os.path.exists(fname_cat):\n",
    "        os.remove(fname_cat)\n",
    "    fname_zarr = \"compare_getslice.zarr\"\n",
    "    if os.path.exists(fname_zarr):\n",
    "        shutil.rmtree(fname_zarr)\n",
    "    fname_h5 = \"compare_getslice.h5\"\n",
    "    if os.path.exists(fname_h5):\n",
    "        os.remove(fname_h5)"
   ]
  },
  {
   "cell_type": "code",
   "execution_count": 5,
   "metadata": {
    "pycharm": {
     "is_executing": false,
     "name": "#%%\n"
    }
   },
   "outputs": [
    {
     "name": "stdout",
     "output_type": "stream",
     "text": [
      "In [5] used 0.039 MiB RAM in 0.004s, peaked 0.000 MiB above current, total RAM usage 93.352 MiB\n"
     ]
    }
   ],
   "source": [
    "dtype = np.float64\n",
    "\n",
    "# Dimensions for the arrays\n",
    "# 'Small' arrays config follows...\n",
    "# shape = (100, 500, 250)\n",
    "# pshape = (20, 500, 50)\n",
    "shape = (100, 5000, 250)\n",
    "pshape = (20, 500, 50)\n",
    "\n",
    "# This config generates containers of more than 2 GB in size\n",
    "# shape = (250, 4000, 350)\n",
    "# pshape = (200, 100, 100)\n",
    "\n",
    "# Compression properties\n",
    "cname = \"zstd\"\n",
    "clevel = 6\n",
    "filter = cat.SHUFFLE\n",
    "nthreads = 4\n",
    "\n",
    "# Dicts for timers\n",
    "wtimes = {}\n",
    "rtimes = {}\n",
    "\n",
    "# Dict for cratios\n",
    "cratios = {}"
   ]
  },
  {
   "cell_type": "code",
   "execution_count": 6,
   "metadata": {},
   "outputs": [
    {
     "name": "stdout",
     "output_type": "stream",
     "text": [
      "In [6] used 954.430 MiB RAM in 0.784s, peaked 0.000 MiB above current, total RAM usage 1047.781 MiB\n"
     ]
    }
   ],
   "source": [
    "# Create content for populating arrays\n",
    "content = np.linspace(0, 10, int(np.prod(shape)), dtype=dtype).reshape(shape)"
   ]
  },
  {
   "cell_type": "code",
   "execution_count": 7,
   "metadata": {},
   "outputs": [
    {
     "name": "stdout",
     "output_type": "stream",
     "text": [
      "Time for filling array (caterva, iter): 4.571s ; CRatio: 21.2x\n",
      "In [7] used 76.570 MiB RAM in 4.574s, peaked 0.000 MiB above current, total RAM usage 1124.352 MiB\n"
     ]
    }
   ],
   "source": [
    "t0 = time()\n",
    "a = cat.empty(shape, pshape=pshape, itemsize=content.itemsize, filename=fname_cat,\n",
    "              cname=cname, clevel=clevel, filters=[filter],\n",
    "              cnthreads=nthreads, dnthreads=nthreads)\n",
    "for block, info in a.iter_write():\n",
    "    nparray = content[info.slice]\n",
    "    block[:] = bytes(nparray)\n",
    "acratio = a.cratio\n",
    "t1 = time()\n",
    "print(\"Time for filling array (caterva, iter): %.3fs ; CRatio: %.1fx\" % ((t1 - t0), acratio))\n",
    "wtimes['caterva'] = (t1 - t0)\n",
    "cratios['caterva'] = acratio"
   ]
  },
  {
   "cell_type": "code",
   "execution_count": 8,
   "metadata": {
    "pycharm": {
     "is_executing": false,
     "name": "#%%\n"
    }
   },
   "outputs": [
    {
     "name": "stdout",
     "output_type": "stream",
     "text": [
      "Time for filling array (zarr): 4.785s ; CRatio: 21.2x\n",
      "In [8] used 75.840 MiB RAM in 4.788s, peaked 0.000 MiB above current, total RAM usage 1200.191 MiB\n"
     ]
    }
   ],
   "source": [
    "# Create and fill a zarr array\n",
    "t0 = time()\n",
    "compressor = numcodecs.Blosc(cname=cname, clevel=clevel, shuffle=filter)\n",
    "numcodecs.blosc.set_nthreads(nthreads)\n",
    "if persistent:\n",
    "    z = zarr.open(fname_zarr, mode='w', shape=shape, chunks=pshape, dtype=dtype, compressor=compressor)\n",
    "else:\n",
    "    z = zarr.empty(shape=shape, chunks=pshape, dtype=dtype, compressor=compressor)\n",
    "z[:] = content\n",
    "t1 = time()\n",
    "zcratio = z.nbytes / z.nbytes_stored\n",
    "print(\"Time for filling array (zarr): %.3fs ; CRatio: %.1fx\" % ((t1 - t0), zcratio))\n",
    "wtimes['zarr'] = (t1 - t0)\n",
    "cratios['zarr'] = zcratio"
   ]
  },
  {
   "cell_type": "code",
   "execution_count": 9,
   "metadata": {
    "pycharm": {
     "is_executing": false,
     "name": "#%%\n"
    }
   },
   "outputs": [
    {
     "name": "stdout",
     "output_type": "stream",
     "text": [
      "Time for filling array (hdf5): 10.226s ; CRatio: 21.2x\n",
      "In [9] used 51.531 MiB RAM in 10.228s, peaked 0.000 MiB above current, total RAM usage 1251.723 MiB\n"
     ]
    }
   ],
   "source": [
    "# Create and fill a hdf5 array\n",
    "t0 = time()\n",
    "filters = tables.Filters(complevel=clevel, complib=\"blosc:%s\" % cname, shuffle=True)\n",
    "tables.set_blosc_max_threads(nthreads)\n",
    "if persistent:\n",
    "    h5f = tables.open_file(fname_h5, 'w')\n",
    "else:\n",
    "    h5f = tables.open_file(fname_h5, 'w', driver='H5FD_CORE', driver_core_backing_store=0)\n",
    "h5ca = h5f.create_carray(h5f.root, 'carray', filters=filters, chunkshape=pshape, obj=content)\n",
    "h5f.flush()\n",
    "t1 = time()\n",
    "h5cratio = h5ca.size_in_memory / h5ca.size_on_disk\n",
    "print(\"Time for filling array (hdf5): %.3fs ; CRatio: %.1fx\" % ((t1 - t0), h5cratio))\n",
    "wtimes['hdf5'] = (t1 - t0)\n",
    "cratios['hdf5'] = h5cratio"
   ]
  },
  {
   "cell_type": "code",
   "execution_count": 10,
   "metadata": {
    "pycharm": {
     "is_executing": false,
     "name": "#%%\n"
    }
   },
   "outputs": [
    {
     "name": "stdout",
     "output_type": "stream",
     "text": [
      "In [10] used 0.062 MiB RAM in 0.001s, peaked 0.000 MiB above current, total RAM usage 1251.785 MiB\n"
     ]
    }
   ],
   "source": [
    "# Get the coordinates for random planes\n",
    "planes_idx = np.random.randint(0, shape[1], 100)"
   ]
  },
  {
   "cell_type": "code",
   "execution_count": 11,
   "metadata": {
    "pycharm": {
     "is_executing": false,
     "name": "#%%\n"
    }
   },
   "outputs": [
    {
     "name": "stdout",
     "output_type": "stream",
     "text": [
      "Time for reading with getitem (caterva): 3.975s\n",
      "In [11] used 2.055 MiB RAM in 3.978s, peaked 0.000 MiB above current, total RAM usage 1253.840 MiB\n"
     ]
    }
   ],
   "source": [
    "# Time getitem with caterva\n",
    "t0 = time()\n",
    "for i in planes_idx:\n",
    "    rbytes = a[:,i,:]\n",
    "    block = np.frombuffer(rbytes, dtype=dtype).reshape((shape[0], shape[2]))\n",
    "t1 = time()\n",
    "print(\"Time for reading with getitem (caterva): %.3fs\" % (t1 - t0))\n",
    "rtimes['caterva'] = (t1 - t0)"
   ]
  },
  {
   "cell_type": "code",
   "execution_count": 12,
   "metadata": {
    "pycharm": {
     "is_executing": false,
     "name": "#%%\n"
    }
   },
   "outputs": [
    {
     "name": "stdout",
     "output_type": "stream",
     "text": [
      "Time for reading with getitem (zarr): 5.644s\n",
      "In [12] used 0.430 MiB RAM in 5.645s, peaked 0.000 MiB above current, total RAM usage 1254.270 MiB\n"
     ]
    }
   ],
   "source": [
    "# Time getitem with zarr\n",
    "t0 = time()\n",
    "for i in planes_idx:\n",
    "    block = z[:,i,:]\n",
    "t1 = time()\n",
    "print(\"Time for reading with getitem (zarr): %.3fs\" % (t1 - t0))\n",
    "rtimes['zarr'] = (t1 - t0)"
   ]
  },
  {
   "cell_type": "code",
   "execution_count": 13,
   "metadata": {
    "pycharm": {
     "is_executing": false,
     "name": "#%%\n"
    }
   },
   "outputs": [
    {
     "name": "stdout",
     "output_type": "stream",
     "text": [
      "Time for reading with getitem (hdf5): 7.366s\n",
      "In [13] used -11.180 MiB RAM in 7.368s, peaked 11.938 MiB above current, total RAM usage 1243.090 MiB\n"
     ]
    }
   ],
   "source": [
    "# Time getitem with hdf5\n",
    "t0 = time()\n",
    "if persistent:\n",
    "    h5f.close()\n",
    "    h5f = tables.open_file(fname_h5, 'r', filters=filters)\n",
    "h5ca = h5f.root.carray\n",
    "for i in planes_idx:\n",
    "    block = h5ca[:,i,:]\n",
    "t1 = time()\n",
    "print(\"Time for reading with getitem (hdf5): %.3fs\" % (t1 - t0))\n",
    "rtimes['hdf5'] = (t1 - t0)"
   ]
  },
  {
   "cell_type": "code",
   "execution_count": 14,
   "metadata": {},
   "outputs": [
    {
     "name": "stdout",
     "output_type": "stream",
     "text": [
      "In [14] used -68.879 MiB RAM in 0.054s, peaked 68.898 MiB above current, total RAM usage 1174.211 MiB\n"
     ]
    }
   ],
   "source": [
    "# Release resources\n",
    "del a\n",
    "del z\n",
    "h5f.close()"
   ]
  },
  {
   "cell_type": "code",
   "execution_count": 15,
   "metadata": {},
   "outputs": [
    {
     "data": {
      "text/plain": [
       "({'caterva': 4.571250915527344,\n",
       "  'zarr': 4.785361289978027,\n",
       "  'hdf5': 10.225864171981812},\n",
       " {'caterva': 3.9751250743865967,\n",
       "  'zarr': 5.643680095672607,\n",
       "  'hdf5': 7.36583399772644})"
      ]
     },
     "execution_count": 15,
     "metadata": {},
     "output_type": "execute_result"
    },
    {
     "name": "stdout",
     "output_type": "stream",
     "text": [
      "In [15] used -6.629 MiB RAM in 0.014s, peaked 6.629 MiB above current, total RAM usage 1167.582 MiB\n"
     ]
    }
   ],
   "source": [
    "wtimes,rtimes"
   ]
  },
  {
   "cell_type": "code",
   "execution_count": 16,
   "metadata": {},
   "outputs": [
    {
     "name": "stdout",
     "output_type": "stream",
     "text": [
      "In [16] used -3.527 MiB RAM in 0.175s, peaked 4.816 MiB above current, total RAM usage 1164.055 MiB\n"
     ]
    }
   ],
   "source": [
    "%matplotlib inline"
   ]
  },
  {
   "cell_type": "code",
   "execution_count": 17,
   "metadata": {},
   "outputs": [
    {
     "name": "stdout",
     "output_type": "stream",
     "text": [
      "In [17] used 0.031 MiB RAM in 0.001s, peaked 0.000 MiB above current, total RAM usage 1164.086 MiB\n"
     ]
    }
   ],
   "source": [
    "store = \"on-disk\" if persistent else \"in-memory\"\n",
    "fontsize = 16"
   ]
  },
  {
   "cell_type": "code",
   "execution_count": 18,
   "metadata": {},
   "outputs": [
    {
     "data": {
      "text/plain": [
       "<matplotlib.axes._subplots.AxesSubplot at 0x156eb0e10>"
      ]
     },
     "execution_count": 18,
     "metadata": {},
     "output_type": "execute_result"
    },
    {
     "data": {
      "image/png": "[encoded data removed]",
      "text/plain": [
       "<Figure size 864x360 with 1 Axes>"
      ]
     },
     "metadata": {
      "needs_background": "light"
     },
     "output_type": "display_data"
    },
    {
     "name": "stdout",
     "output_type": "stream",
     "text": [
      "In [18] used -96.172 MiB RAM in 0.238s, peaked 96.180 MiB above current, total RAM usage 1067.914 MiB\n"
     ]
    }
   ],
   "source": [
    "# Creation times\n",
    "labels = [\"caterva\", \"zarr\", \"hdf5\"]\n",
    "df = pd.DataFrame({'time (sec)': [wtimes['caterva'], wtimes['zarr'], wtimes['hdf5']]}, index=labels)\n",
    "df.plot(kind='barh', figsize=(12,5), color=None, fontsize=fontsize, title=\"Creation times (%s)\" % store)"
   ]
  },
  {
   "cell_type": "code",
   "execution_count": 19,
   "metadata": {},
   "outputs": [
    {
     "data": {
      "text/plain": [
       "<matplotlib.axes._subplots.AxesSubplot at 0x157add320>"
      ]
     },
     "execution_count": 19,
     "metadata": {},
     "output_type": "execute_result"
    },
    {
     "data": {
      "image/png": "[encoded data removed]",
      "text/plain": [
       "<Figure size 864x360 with 1 Axes>"
      ]
     },
     "metadata": {
      "needs_background": "light"
     },
     "output_type": "display_data"
    },
    {
     "name": "stdout",
     "output_type": "stream",
     "text": [
      "In [19] used 1.809 MiB RAM in 0.194s, peaked 0.000 MiB above current, total RAM usage 1069.723 MiB\n"
     ]
    }
   ],
   "source": [
    "# Getslice times\n",
    "labels = [\"caterva\", \"zarr\", \"hdf5\"]\n",
    "df = pd.DataFrame({'time (sec)': [rtimes['caterva'], rtimes['zarr'], rtimes['hdf5']]}, index=labels)\n",
    "df.plot(kind='barh', figsize=(12,5), color=\"green\", fontsize=fontsize, title=\"Getslice times (%s)\" % store)"
   ]
  },
  {
   "cell_type": "code",
   "execution_count": 20,
   "metadata": {},
   "outputs": [
    {
     "data": {
      "text/plain": [
       "<matplotlib.axes._subplots.AxesSubplot at 0x157dae6d8>"
      ]
     },
     "execution_count": 20,
     "metadata": {},
     "output_type": "execute_result"
    },
    {
     "data": {
      "image/png": "[encoded data removed]",
      "text/plain": [
       "<Figure size 864x360 with 1 Axes>"
      ]
     },
     "metadata": {
      "needs_background": "light"
     },
     "output_type": "display_data"
    },
    {
     "name": "stdout",
     "output_type": "stream",
     "text": [
      "In [20] used 1.727 MiB RAM in 0.197s, peaked 0.000 MiB above current, total RAM usage 1071.449 MiB\n"
     ]
    }
   ],
   "source": [
    "# Compression ratios\n",
    "labels = [\"caterva\", \"zarr\", \"hdf5\"]\n",
    "df = pd.DataFrame({'compression ratio': [cratios['caterva'], cratios['zarr'], cratios['hdf5']]}, index=labels)\n",
    "df.plot(kind='barh', figsize=(12,5), color=\"red\", fontsize=fontsize, title=\"Compression ratios (%s)\" % store)"
   ]
  },
  {
   "cell_type": "code",
   "execution_count": null,
   "metadata": {},
   "outputs": [],
   "source": []
  }
 ],
 "metadata": {
  "kernelspec": {
   "display_name": "Python 3",
   "language": "python",
   "name": "python3"
  },
  "language_info": {
   "codemirror_mode": {
    "name": "ipython",
    "version": 3
   },
   "file_extension": ".py",
   "mimetype": "text/x-python",
   "name": "python",
   "nbconvert_exporter": "python",
   "pygments_lexer": "ipython3",
   "version": "3.7.3"
  },
  "pycharm": {
   "stem_cell": {
    "cell_type": "raw",
    "metadata": {
     "collapsed": false
    },
    "source": []
   }
  }
 },
 "nbformat": 4,
 "nbformat_minor": 1
}
