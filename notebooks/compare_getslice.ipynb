{
 "cells": [
  {
   "cell_type": "markdown",
   "metadata": {},
   "source": [
    "## Benchmark for comparing speeds of retrieval of hyperplanes\n",
    "\n",
    "We create different multidimensional arrays with different backends:\n",
    "* Caterva\n",
    "* zarr\n",
    "* HDF5\n",
    "\n",
    "In brief, each approach has its own strengths and weaknesses."
   ]
  },
  {
   "cell_type": "code",
   "execution_count": 1,
   "metadata": {
    "pycharm": {
     "is_executing": false
    }
   },
   "outputs": [],
   "source": [
    "import os\n",
    "import shutil\n",
    "from time import time\n",
    "import numpy as np\n",
    "\n",
    "import cat4py as cat\n",
    "import zarr\n",
    "import numcodecs\n",
    "import tables\n",
    "import pandas as pd"
   ]
  },
  {
   "cell_type": "code",
   "execution_count": 2,
   "metadata": {},
   "outputs": [],
   "source": [
    "# Set this to True to benchmark the persistent storage for the backends\n",
    "persistent = False"
   ]
  },
  {
   "cell_type": "code",
   "execution_count": 3,
   "metadata": {
    "pycharm": {
     "is_executing": false,
     "name": "#%%\n"
    }
   },
   "outputs": [],
   "source": [
    "# Dimensions, type and persistency properties for the arrays\n",
    "shape = (50, 5000, 100)\n",
    "pshape = (10, 50, 20)\n",
    "dtype = np.float64\n",
    "\n",
    "# Compression properties\n",
    "cname = \"lz4\"\n",
    "compcode = cat.LZ4  # keep in sync with above\n",
    "clevel = 5\n",
    "filter = cat.SHUFFLE\n",
    "\n",
    "# Filenames for persistent storage\n",
    "fname_cat = None\n",
    "fname_zarr = None\n",
    "fname_h5 = \"in-memory.h5\"\n",
    "if persistent:\n",
    "    fname_cat = \"compare_getslice.cat\"\n",
    "    if os.path.exists(fname_cat):\n",
    "        os.remove(fname_cat)\n",
    "    fname_zarr = \"compare_getslice.zarr\"\n",
    "    if os.path.exists(fname_zarr):\n",
    "        shutil.rmtree(fname_zarr)\n",
    "    fname_h5 = \"compare_getslice.h5\"\n",
    "    if os.path.exists(fname_h5):\n",
    "        os.remove(fname_h5)"
   ]
  },
  {
   "cell_type": "code",
   "execution_count": 4,
   "metadata": {},
   "outputs": [],
   "source": [
    "# Create content for populating arrays\n",
    "content = np.linspace(0, 10, int(np.prod(shape)), dtype=dtype).reshape(shape)\n",
    "\n",
    "# Dicts for timers\n",
    "wtimes = {}\n",
    "rtimes = {}"
   ]
  },
  {
   "cell_type": "code",
   "execution_count": 5,
   "metadata": {
    "pycharm": {
     "is_executing": false,
     "name": "#%%\n"
    }
   },
   "outputs": [
    {
     "name": "stdout",
     "output_type": "stream",
     "text": [
      "Time for filling array (caterva, from_buffer): 0.669s\n"
     ]
    }
   ],
   "source": [
    "# Create and fill a caterva array using a buffer\n",
    "t0 = time()\n",
    "itemsize = np.dtype(dtype).itemsize\n",
    "a = cat.from_buffer(bytes(content), shape, pshape, itemsize=itemsize, filename=fname_cat,\n",
    "                    compcode=compcode, clevel=clevel, filters=[filter])\n",
    "t1 = time()\n",
    "print(\"Time for filling array (caterva, from_buffer): %.3fs\" % (t1 - t0))\n",
    "wtimes['caterva'] = (t1 - t0)"
   ]
  },
  {
   "cell_type": "code",
   "execution_count": 6,
   "metadata": {
    "pycharm": {
     "is_executing": false,
     "name": "#%%\n"
    }
   },
   "outputs": [
    {
     "name": "stdout",
     "output_type": "stream",
     "text": [
      "Time for filling array (zarr): 0.481s\n"
     ]
    }
   ],
   "source": [
    "# Create and fill a zarr array\n",
    "t0 = time()\n",
    "compressor = numcodecs.Blosc(cname=cname, clevel=clevel, shuffle=filter)\n",
    "if persistent:\n",
    "    z = zarr.open(fname_zarr, mode='w', shape=shape, chunks=pshape, dtype=dtype, compressor=compressor)\n",
    "else:\n",
    "    z = zarr.empty(shape=shape, chunks=pshape, dtype=dtype, compressor=compressor)\n",
    "z[:] = content\n",
    "t1 = time()\n",
    "print(\"Time for filling array (zarr): %.3fs\" % (t1 - t0))\n",
    "wtimes['zarr'] = (t1 - t0)"
   ]
  },
  {
   "cell_type": "code",
   "execution_count": 7,
   "metadata": {
    "pycharm": {
     "is_executing": false,
     "name": "#%%\n"
    }
   },
   "outputs": [
    {
     "name": "stdout",
     "output_type": "stream",
     "text": [
      "Time for filling array (hdf5): 0.483s\n"
     ]
    }
   ],
   "source": [
    "# Create and fill a hdf5 array\n",
    "t0 = time()\n",
    "filters = tables.Filters(complevel=clevel, complib=\"blosc:%s\" % cname, shuffle=True)\n",
    "if persistent:\n",
    "    h5f = tables.open_file(fname_h5, 'w')\n",
    "else:\n",
    "    h5f = tables.open_file(fname_h5, 'w', driver='H5FD_CORE')\n",
    "h5ca = h5f.create_carray(h5f.root, 'carray', filters=filters, chunkshape=pshape, obj=content)\n",
    "h5f.flush()\n",
    "t1 = time()\n",
    "print(\"Time for filling array (hdf5): %.3fs\" % (t1 - t0))\n",
    "wtimes['hdf5'] = (t1 - t0)"
   ]
  },
  {
   "cell_type": "code",
   "execution_count": 8,
   "metadata": {
    "pycharm": {
     "is_executing": false,
     "name": "#%%\n"
    }
   },
   "outputs": [],
   "source": [
    "# Get the coordinates for random planes\n",
    "planes_idx = np.random.randint(0, shape[1], 100)"
   ]
  },
  {
   "cell_type": "code",
   "execution_count": 9,
   "metadata": {
    "pycharm": {
     "is_executing": false,
     "name": "#%%\n"
    }
   },
   "outputs": [
    {
     "name": "stdout",
     "output_type": "stream",
     "text": [
      "Time for reading with getitem (caterva): 0.089s\n"
     ]
    }
   ],
   "source": [
    "# Time getitem with caterva\n",
    "t0 = time()\n",
    "for i in planes_idx:\n",
    "    rbytes = a[:,i,:]\n",
    "    block = np.frombuffer(rbytes, dtype=dtype).reshape((shape[0], shape[2]))\n",
    "t1 = time()\n",
    "print(\"Time for reading with getitem (caterva): %.3fs\" % (t1 - t0))\n",
    "rtimes['caterva'] = (t1 - t0)"
   ]
  },
  {
   "cell_type": "code",
   "execution_count": 10,
   "metadata": {
    "pycharm": {
     "is_executing": false,
     "name": "#%%\n"
    }
   },
   "outputs": [
    {
     "name": "stdout",
     "output_type": "stream",
     "text": [
      "Time for reading with getitem (zarr): 0.208s\n"
     ]
    }
   ],
   "source": [
    "# Time getitem with zarr\n",
    "t0 = time()\n",
    "for i in planes_idx:\n",
    "    block = z[:,i,:]\n",
    "t1 = time()\n",
    "print(\"Time for reading with getitem (zarr): %.3fs\" % (t1 - t0))\n",
    "rtimes['zarr'] = (t1 - t0)"
   ]
  },
  {
   "cell_type": "code",
   "execution_count": 11,
   "metadata": {
    "pycharm": {
     "is_executing": false,
     "name": "#%%\n"
    }
   },
   "outputs": [
    {
     "name": "stdout",
     "output_type": "stream",
     "text": [
      "Time for reading with getitem (hdf5): 0.189s\n"
     ]
    }
   ],
   "source": [
    "# Time getitem with hdf5\n",
    "t0 = time()\n",
    "if persistent:\n",
    "    h5f.close()\n",
    "    h5f = tables.open_file(fname_h5, 'r', filters=filters)\n",
    "h5ca = h5f.root.carray\n",
    "for i in planes_idx:\n",
    "    block = h5ca[:,i,:]\n",
    "h5f.close()\n",
    "t1 = time()\n",
    "print(\"Time for reading with getitem (hdf5): %.3fs\" % (t1 - t0))\n",
    "rtimes['hdf5'] = (t1 - t0)"
   ]
  },
  {
   "cell_type": "code",
   "execution_count": 12,
   "metadata": {},
   "outputs": [
    {
     "data": {
      "text/plain": [
       "({'caterva': 0.6685147285461426,\n",
       "  'zarr': 0.48122286796569824,\n",
       "  'hdf5': 0.48250269889831543},\n",
       " {'caterva': 0.08877015113830566,\n",
       "  'zarr': 0.20830392837524414,\n",
       "  'hdf5': 0.18872499465942383})"
      ]
     },
     "execution_count": 12,
     "metadata": {},
     "output_type": "execute_result"
    }
   ],
   "source": [
    "wtimes,rtimes"
   ]
  },
  {
   "cell_type": "code",
   "execution_count": 13,
   "metadata": {},
   "outputs": [],
   "source": [
    "%matplotlib inline"
   ]
  },
  {
   "cell_type": "code",
   "execution_count": 14,
   "metadata": {},
   "outputs": [],
   "source": [
    "store = \"on-disk\" if persistent else \"in-memory\"\n",
    "fontsize = 16"
   ]
  },
  {
   "cell_type": "code",
   "execution_count": 15,
   "metadata": {},
   "outputs": [
    {
     "data": {
      "text/plain": [
       "<matplotlib.axes._subplots.AxesSubplot at 0x126b519b0>"
      ]
     },
     "execution_count": 15,
     "metadata": {},
     "output_type": "execute_result"
    },
    {
     "data": {
      "image/png": "[encoded data removed]",
      "text/plain": [
       "<Figure size 864x360 with 1 Axes>"
      ]
     },
     "metadata": {
      "needs_background": "light"
     },
     "output_type": "display_data"
    }
   ],
   "source": [
    "# Creation times\n",
    "labels = [\"caterva\", \"zarr\", \"hdf5\"]\n",
    "df = pd.DataFrame({'time (sec)': [wtimes['caterva'], wtimes['zarr'], wtimes['hdf5']]}, index=labels)\n",
    "df.plot(kind='barh', figsize=(12,5), color=None, fontsize=fontsize, title=\"Creation times for different backends (%s)\" % store)"
   ]
  },
  {
   "cell_type": "code",
   "execution_count": 16,
   "metadata": {},
   "outputs": [
    {
     "data": {
      "text/plain": [
       "<matplotlib.axes._subplots.AxesSubplot at 0x126c1ab70>"
      ]
     },
     "execution_count": 16,
     "metadata": {},
     "output_type": "execute_result"
    },
    {
     "data": {
      "image/png": "[encoded data removed]",
      "text/plain": [
       "<Figure size 864x360 with 1 Axes>"
      ]
     },
     "metadata": {
      "needs_background": "light"
     },
     "output_type": "display_data"
    }
   ],
   "source": [
    "# Getitem times\n",
    "labels = [\"caterva\", \"zarr\", \"hdf5\"]\n",
    "df = pd.DataFrame({'time (sec)': [rtimes['caterva'], rtimes['zarr'], rtimes['hdf5']]}, index=labels)\n",
    "df.plot(kind='barh', figsize=(12,5), color=\"green\", fontsize=fontsize, title=\"Getitem times for different backends (%s)\" % store)"
   ]
  },
  {
   "cell_type": "code",
   "execution_count": null,
   "metadata": {},
   "outputs": [],
   "source": []
  }
 ],
 "metadata": {
  "kernelspec": {
   "display_name": "Python 3",
   "language": "python",
   "name": "python3"
  },
  "language_info": {
   "codemirror_mode": {
    "name": "ipython",
    "version": 3
   },
   "file_extension": ".py",
   "mimetype": "text/x-python",
   "name": "python",
   "nbconvert_exporter": "python",
   "pygments_lexer": "ipython3",
   "version": "3.7.3"
  },
  "pycharm": {
   "stem_cell": {
    "cell_type": "raw",
    "metadata": {
     "collapsed": false
    },
    "source": []
   }
  }
 },
 "nbformat": 4,
 "nbformat_minor": 1
}
