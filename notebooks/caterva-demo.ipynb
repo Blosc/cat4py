{
 "cells": [
  {
   "cell_type": "markdown",
   "metadata": {},
   "source": [
    "# Caterva - PyData NYC 2019"
   ]
  },
  {
   "cell_type": "code",
   "execution_count": 1,
   "metadata": {},
   "outputs": [],
   "source": [
    "import os\n",
    "import cat4py as cat\n",
    "import numpy as np\n",
    "from time import time"
   ]
  },
  {
   "cell_type": "markdown",
   "metadata": {},
   "source": [
    "## NPArray"
   ]
  },
  {
   "cell_type": "code",
   "execution_count": 2,
   "metadata": {},
   "outputs": [],
   "source": [
    "shape = (5000, 5000)\n",
    "chunkshape = (500, 500)\n",
    "blockshape = (50, 50)\n",
    "dtype = 'f8'\n",
    "a = np.linspace(0, 1, np.prod(shape), dtype=dtype).reshape(shape)"
   ]
  },
  {
   "cell_type": "markdown",
   "metadata": {},
   "source": [
    "### Different ways to create a Caterva NPArray"
   ]
  },
  {
   "cell_type": "code",
   "execution_count": 3,
   "metadata": {},
   "outputs": [],
   "source": [
    "b1 = cat.from_numpy(a, chunkshape=chunkshape, blockshape=blockshape)"
   ]
  },
  {
   "cell_type": "code",
   "execution_count": 4,
   "metadata": {},
   "outputs": [],
   "source": [
    "b2 = cat.empty(shape, dtype=dtype, chunkshape=chunkshape, blockshape=blockshape)\n",
    "for block, info in b2.iter_write():\n",
    "    block[:] = a[info.slice]"
   ]
  },
  {
   "cell_type": "code",
   "execution_count": 5,
   "metadata": {},
   "outputs": [],
   "source": [
    "b3 = cat.from_buffer(bytes(a), shape, dtype=dtype, chunkshape=chunkshape, blockshape=blockshape)"
   ]
  },
  {
   "cell_type": "markdown",
   "metadata": {},
   "source": [
    "### Read iterator over Caterva NPArray"
   ]
  },
  {
   "cell_type": "code",
   "execution_count": 6,
   "metadata": {},
   "outputs": [],
   "source": [
    "for block, info in b1.iter_read():\n",
    "    np.testing.assert_allclose(block, a[info.slice])\n",
    "    \n",
    "for block, info in b2.iter_read():\n",
    "    np.testing.assert_allclose(block, a[info.slice])\n",
    "    \n",
    "for block, info in b3.iter_read():\n",
    "    np.testing.assert_allclose(block, a[info.slice])"
   ]
  },
  {
   "cell_type": "markdown",
   "metadata": {},
   "source": [
    "### Getting a slice from a Caterva NPArray"
   ]
  },
  {
   "cell_type": "code",
   "execution_count": 7,
   "metadata": {},
   "outputs": [
    {
     "data": {
      "text/plain": [
       "array([[0.000608  , 0.00060804, 0.00060808, ..., 0.00061988, 0.00061992,\n",
       "        0.00061996],\n",
       "       [0.000808  , 0.00080804, 0.00080808, ..., 0.00081988, 0.00081992,\n",
       "        0.00081996],\n",
       "       [0.001008  , 0.00100804, 0.00100808, ..., 0.00101988, 0.00101992,\n",
       "        0.00101996],\n",
       "       ...,\n",
       "       [0.007408  , 0.00740804, 0.00740808, ..., 0.00741988, 0.00741992,\n",
       "        0.00741996],\n",
       "       [0.007608  , 0.00760804, 0.00760808, ..., 0.00761988, 0.00761992,\n",
       "        0.00761996],\n",
       "       [0.007808  , 0.00780804, 0.00780808, ..., 0.00781988, 0.00781992,\n",
       "        0.00781996]])"
      ]
     },
     "execution_count": 7,
     "metadata": {},
     "output_type": "execute_result"
    }
   ],
   "source": [
    "b2[3:40, 200:500]"
   ]
  },
  {
   "cell_type": "markdown",
   "metadata": {},
   "source": [
    "### Serialize Caterva NPArray"
   ]
  },
  {
   "cell_type": "code",
   "execution_count": 8,
   "metadata": {
    "scrolled": true
   },
   "outputs": [
    {
     "name": "stdout",
     "output_type": "stream",
     "text": [
      "No serialized format: 0.0871\n"
     ]
    }
   ],
   "source": [
    "c1 = cat.from_numpy(a, chunkshape=chunkshape, blockshape=blockshape)\n",
    "\n",
    "t0 = time()\n",
    "sframe = c1.to_sframe()\n",
    "t1 = time()\n",
    "tnsf = t1 - t0\n",
    "\n",
    "print(f\"No serialized format: {tnsf:.4f}\")"
   ]
  },
  {
   "cell_type": "code",
   "execution_count": 9,
   "metadata": {
    "scrolled": true
   },
   "outputs": [
    {
     "name": "stdout",
     "output_type": "stream",
     "text": [
      "Serialized format: 0.0058\n"
     ]
    }
   ],
   "source": [
    "c2 = cat.from_numpy(a, chunkshape=chunkshape, blockshape=blockshape, enforceframe=True)\n",
    "\n",
    "t0 = time()\n",
    "sframe = c2.to_sframe()\n",
    "t1 = time()\n",
    "tsf = t1 - t0\n",
    "\n",
    "print(f\"Serialized format: {tsf:.4f}\")"
   ]
  },
  {
   "cell_type": "code",
   "execution_count": 10,
   "metadata": {},
   "outputs": [
    {
     "name": "stdout",
     "output_type": "stream",
     "text": [
      "Speed-up: 15.1256\n"
     ]
    }
   ],
   "source": [
    "print(f\"Speed-up: {(tnsf / tsf):.4f}\")"
   ]
  },
  {
   "cell_type": "markdown",
   "metadata": {},
   "source": [
    "### Persistency"
   ]
  },
  {
   "cell_type": "code",
   "execution_count": 11,
   "metadata": {},
   "outputs": [],
   "source": [
    "if os.path.exists(\"caterva-demo.cat\"):\n",
    "    os.remove(\"caterva-demo.cat\")\n",
    "    \n",
    "d1 = cat.from_numpy(a, chunkshape=chunkshape, blockshape=blockshape, enforceframe=True, filename=\"caterva-demo.cat\")\n",
    "d2 = cat.from_file(\"caterva-demo.cat\")"
   ]
  }
 ],
 "metadata": {
  "kernelspec": {
   "display_name": "Python 3",
   "language": "python",
   "name": "python3"
  },
  "language_info": {
   "codemirror_mode": {
    "name": "ipython",
    "version": 3
   },
   "file_extension": ".py",
   "mimetype": "text/x-python",
   "name": "python",
   "nbconvert_exporter": "python",
   "pygments_lexer": "ipython3",
   "version": "3.7.7"
  }
 },
 "nbformat": 4,
 "nbformat_minor": 2
}
